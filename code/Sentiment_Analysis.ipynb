{
 "cells": [
  {
   "cell_type": "markdown",
   "id": "7b45c4fa",
   "metadata": {},
   "source": [
    "\n",
    "# Sentiment Analysis of Product Reviews 🛍️🧠\n",
    "\n",
    "This project performs **sentiment analysis** on product reviews using the **VADER** sentiment analysis tool from the NLTK library.\n",
    "\n",
    "We analyze a set of product reviews and classify them into **positive**, **neutral**, or **negative** based on the text content.\n"
   ]
  },
  {
   "cell_type": "code",
   "execution_count": null,
   "id": "b01a227c",
   "metadata": {},
   "outputs": [],
   "source": [
    "\n",
    "import pandas as pd\n",
    "import numpy as np\n",
    "import matplotlib.pyplot as plt\n",
    "import seaborn as sns\n",
    "from tqdm.notebook import tqdm\n",
    "\n",
    "import nltk\n",
    "from nltk.sentiment import SentimentIntensityAnalyzer\n",
    "from nltk.tokenize import word_tokenize\n",
    "\n",
    "plt.style.use('ggplot')\n"
   ]
  },
  {
   "cell_type": "code",
   "execution_count": null,
   "id": "bee548ee",
   "metadata": {},
   "outputs": [],
   "source": [
    "\n",
    "nltk.download('punkt')\n",
    "nltk.download('vader_lexicon')\n"
   ]
  },
  {
   "cell_type": "markdown",
   "id": "de2fcc03",
   "metadata": {},
   "source": [
    "## Load Dataset"
   ]
  },
  {
   "cell_type": "code",
   "execution_count": null,
   "id": "e5def379",
   "metadata": {},
   "outputs": [],
   "source": [
    "\n",
    "# Load the dataset - update the path if needed\n",
    "df = pd.read_csv('data/sample_reviews.csv', encoding='unicode_escape')\n",
    "\n",
    "# Display shape and first few rows\n",
    "print(f\"Dataset contains {df.shape[0]} rows and {df.shape[1]} columns\")\n",
    "df.head()\n"
   ]
  },
  {
   "cell_type": "markdown",
   "id": "08bb9708",
   "metadata": {},
   "source": [
    "## Preprocess Dataset"
   ]
  },
  {
   "cell_type": "code",
   "execution_count": null,
   "id": "432226c2",
   "metadata": {},
   "outputs": [],
   "source": [
    "\n",
    "# For demo purposes, keep only the first 500 reviews\n",
    "df = df.head(500)\n",
    "\n",
    "# Optional: Drop rows with missing reviews\n",
    "df = df.dropna(subset=['body'])\n",
    "df.reset_index(drop=True, inplace=True)\n",
    "print(f\"Trimmed dataset contains {df.shape[0]} reviews.\")\n"
   ]
  },
  {
   "cell_type": "markdown",
   "id": "d75d8eda",
   "metadata": {},
   "source": [
    "## 🔍 Tokenization Example (Optional Demo)"
   ]
  },
  {
   "cell_type": "code",
   "execution_count": null,
   "id": "8df78cbd",
   "metadata": {},
   "outputs": [],
   "source": [
    "\n",
    "example_text = df['body'][4]\n",
    "print(\"Example Review:\", example_text)\n",
    "word_tokenize(example_text)\n"
   ]
  },
  {
   "cell_type": "markdown",
   "id": "4627bd95",
   "metadata": {},
   "source": [
    "## 🧠 VADER Sentiment Analysis with Review ID Mapping"
   ]
  },
  {
   "cell_type": "code",
   "execution_count": null,
   "id": "1acd3445",
   "metadata": {},
   "outputs": [],
   "source": [
    "\n",
    "sia = SentimentIntensityAnalyzer()\n",
    "\n",
    "# Run the polarity score on the entire dataset\n",
    "res = {}\n",
    "for i, row in tqdm(df.iterrows(), total=len(df)):\n",
    "    body = row['body']\n",
    "    review_id = i  # If you have an 'Id' column, replace with row['Id']\n",
    "    res[review_id] = sia.polarity_scores(body)\n",
    "\n",
    "# Convert results to DataFrame\n",
    "vaders = pd.DataFrame(res).T\n",
    "vaders = vaders.reset_index().rename(columns={'index': 'review_id'})\n",
    "vaders = vaders.merge(df, left_on='review_id', right_index=True)\n"
   ]
  },
  {
   "cell_type": "code",
   "execution_count": null,
   "id": "d20e13d7",
   "metadata": {},
   "outputs": [],
   "source": [
    "\n",
    "# Add sentiment label\n",
    "vaders['sentiment'] = vaders['compound'].apply(\n",
    "    lambda c: 'positive' if c > 0.05 else ('negative' if c < -0.05 else 'neutral')\n",
    ")\n",
    "\n",
    "vaders.head()\n"
   ]
  },
  {
   "cell_type": "markdown",
   "id": "e5b074fe",
   "metadata": {},
   "source": [
    "## 📊 Visualize Sentiment Distribution"
   ]
  },
  {
   "cell_type": "code",
   "execution_count": null,
   "id": "e97e7b93",
   "metadata": {},
   "outputs": [],
   "source": [
    "\n",
    "sns.countplot(x='sentiment', data=vaders, palette='pastel')\n",
    "plt.title('Sentiment Distribution')\n",
    "plt.xlabel('Sentiment')\n",
    "plt.ylabel('Number of Reviews')\n",
    "plt.show()\n"
   ]
  },
  {
   "cell_type": "markdown",
   "id": "cf3decf3",
   "metadata": {},
   "source": [
    "\n",
    "## 📌 Conclusion\n",
    "\n",
    "- VADER provides a simple yet effective way to perform sentiment analysis.\n",
    "- Majority/minority sentiment can be visualized to understand customer feedback.\n",
    "- This is useful for businesses to monitor and respond to customer opinions.\n",
    "\n",
    "---\n",
    "\n",
    "**Next Steps:** Try other sentiment models like TextBlob or transformer-based models for deeper insights.\n"
   ]
  }
 ],
 "metadata": {},
 "nbformat": 4,
 "nbformat_minor": 5
}
